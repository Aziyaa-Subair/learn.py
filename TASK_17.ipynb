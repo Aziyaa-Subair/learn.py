{
  "nbformat": 4,
  "nbformat_minor": 0,
  "metadata": {
    "colab": {
      "name": "Copy of TASK 17.ipynb",
      "provenance": [],
      "include_colab_link": true
    },
    "kernelspec": {
      "name": "python3",
      "display_name": "Python 3"
    },
    "language_info": {
      "name": "python"
    }
  },
  "cells": [
    {
      "cell_type": "markdown",
      "metadata": {
        "id": "view-in-github",
        "colab_type": "text"
      },
      "source": [
        "<a href=\"https://colab.research.google.com/github/Aziyaa-Subair/learn.py/blob/main/TASK_17.ipynb\" target=\"_parent\"><img src=\"https://colab.research.google.com/assets/colab-badge.svg\" alt=\"Open In Colab\"/></a>"
      ]
    },
    {
      "cell_type": "markdown",
      "metadata": {
        "id": "0SLapvpoaeYY"
      },
      "source": [
        "1. Create a DataFrame by passing a random numpy array,with a datetie index and labelled columns.and display its,\n",
        "     - Head\n",
        "     - Tail\n",
        "     - Index \n",
        "     - Columns\n",
        "     - Values\n",
        "     - statistics\n"
      ]
    },
    {
      "cell_type": "code",
      "metadata": {
        "id": "zJDkjyVxa5yU",
        "colab": {
          "base_uri": "https://localhost:8080/"
        },
        "outputId": "6a4623cc-dad6-4977-b9f4-621a91c24c49"
      },
      "source": [
        "#please type your answer below this line.\n",
        "import pandas as pd\n",
        "import numpy as np\n",
        "dates = pd.date_range('20210901', periods=6)\n",
        "df = pd.DataFrame(np.random.randn(6, 4), index=dates, columns=list('1234'))\n",
        "print(df)\n",
        "print(\"\\n\")\n",
        "print(\"Head\")\n",
        "print(df.head(1))\n",
        "print(\"\\n\")\n",
        "print(\"Tail\")\n",
        "print(df.tail(1))\n",
        "print(\"\\n\")\n",
        "print(\"Index\")\n",
        "print(df.index)\n",
        "print(\"\\n\")\n",
        "print(\"Columns\")\n",
        "print(df.columns)\n",
        "print(\"\\n\")\n",
        "print(\"Values\")\n",
        "print(df.values)\n",
        "print(\"\\n\")\n",
        "print(\"Statistics\")\n",
        "print(df.describe())\n",
        "\n"
      ],
      "execution_count": 17,
      "outputs": [
        {
          "output_type": "stream",
          "text": [
            "                   1         2         3         4\n",
            "2021-09-01 -1.544537  1.154475 -0.041374  1.338251\n",
            "2021-09-02 -0.659125  1.272494 -1.772470 -0.196567\n",
            "2021-09-03  0.668330  0.716466  0.573456  0.836892\n",
            "2021-09-04 -0.704590 -1.913300  1.323928  1.892957\n",
            "2021-09-05  0.150672  0.556206 -0.423716 -0.140092\n",
            "2021-09-06  0.190278 -0.383477  0.589699  0.468453\n",
            "\n",
            "\n",
            "Head\n",
            "                   1         2         3         4\n",
            "2021-09-01 -1.544537  1.154475 -0.041374  1.338251\n",
            "\n",
            "\n",
            "Tail\n",
            "                   1         2         3         4\n",
            "2021-09-06  0.190278 -0.383477  0.589699  0.468453\n",
            "\n",
            "\n",
            "Index\n",
            "DatetimeIndex(['2021-09-01', '2021-09-02', '2021-09-03', '2021-09-04',\n",
            "               '2021-09-05', '2021-09-06'],\n",
            "              dtype='datetime64[ns]', freq='D')\n",
            "\n",
            "\n",
            "Columns\n",
            "Index(['1', '2', '3', '4'], dtype='object')\n",
            "\n",
            "\n",
            "Values\n",
            "[[-1.54453698  1.15447498 -0.04137412  1.33825148]\n",
            " [-0.65912544  1.27249437 -1.77246994 -0.19656712]\n",
            " [ 0.66832993  0.71646615  0.57345574  0.83689217]\n",
            " [-0.70458983 -1.91329997  1.32392816  1.89295719]\n",
            " [ 0.15067152  0.55620587 -0.423716   -0.14009175]\n",
            " [ 0.19027837 -0.38347696  0.58969899  0.46845331]]\n",
            "\n",
            "\n",
            "Statistics\n",
            "              1         2         3         4\n",
            "count  6.000000  6.000000  6.000000  6.000000\n",
            "mean  -0.316495  0.233811  0.041587  0.699983\n",
            "std    0.802626  1.204534  1.071625  0.826130\n",
            "min   -1.544537 -1.913300 -1.772470 -0.196567\n",
            "25%   -0.693224 -0.148556 -0.328131  0.012045\n",
            "50%   -0.254227  0.636336  0.266041  0.652673\n",
            "75%    0.180377  1.044973  0.585638  1.212912\n",
            "max    0.668330  1.272494  1.323928  1.892957\n"
          ],
          "name": "stdout"
        }
      ]
    },
    {
      "cell_type": "markdown",
      "metadata": {
        "id": "xnkA2mKDdyoO"
      },
      "source": [
        "2. Use the above table and,\n",
        "      - find transpose of your data.\n",
        "      - sort the index in the descending order of the date."
      ]
    },
    {
      "cell_type": "code",
      "metadata": {
        "id": "uqcQSEOufJ5P",
        "colab": {
          "base_uri": "https://localhost:8080/",
          "height": 541
        },
        "outputId": "70bc90a1-97df-422d-98c8-f56479951eed"
      },
      "source": [
        "#please provide your answer below this line.\n",
        "import pandas as pd\n",
        "import numpy as np\n",
        "dates = pd.date_range('20210901', periods=6)\n",
        "df = pd.DataFrame(np.random.randn(6, 4), index=dates, columns=list('1234'))\n",
        "print(df)\n",
        "print(\"\\n\")\n",
        "print(\"Transpose\")\n",
        "print(df.T)\n",
        "print(\"\\n\")\n",
        "print(\"The index in the descending order of the date\")\n",
        "df.sort_index(axis=0, ascending=False)"
      ],
      "execution_count": 36,
      "outputs": [
        {
          "output_type": "stream",
          "text": [
            "                   1         2         3         4\n",
            "2021-09-01  0.312985  0.938770  1.594607 -1.624135\n",
            "2021-09-02 -0.353621 -0.098514 -0.746377 -0.814201\n",
            "2021-09-03 -0.040703 -0.399904 -0.074965  0.353783\n",
            "2021-09-04 -1.582265  1.858140  2.164934  1.519460\n",
            "2021-09-05  0.781631  0.808867  0.643473  1.748946\n",
            "2021-09-06 -0.640617 -2.034526 -0.096965  0.602943\n",
            "\n",
            "\n",
            "Transpose\n",
            "   2021-09-01  2021-09-02  2021-09-03  2021-09-04  2021-09-05  2021-09-06\n",
            "1    0.312985   -0.353621   -0.040703   -1.582265    0.781631   -0.640617\n",
            "2    0.938770   -0.098514   -0.399904    1.858140    0.808867   -2.034526\n",
            "3    1.594607   -0.746377   -0.074965    2.164934    0.643473   -0.096965\n",
            "4   -1.624135   -0.814201    0.353783    1.519460    1.748946    0.602943\n",
            "\n",
            "\n",
            "Sort the index in the descending order of the date\n"
          ],
          "name": "stdout"
        },
        {
          "output_type": "execute_result",
          "data": {
            "text/html": [
              "<div>\n",
              "<style scoped>\n",
              "    .dataframe tbody tr th:only-of-type {\n",
              "        vertical-align: middle;\n",
              "    }\n",
              "\n",
              "    .dataframe tbody tr th {\n",
              "        vertical-align: top;\n",
              "    }\n",
              "\n",
              "    .dataframe thead th {\n",
              "        text-align: right;\n",
              "    }\n",
              "</style>\n",
              "<table border=\"1\" class=\"dataframe\">\n",
              "  <thead>\n",
              "    <tr style=\"text-align: right;\">\n",
              "      <th></th>\n",
              "      <th>1</th>\n",
              "      <th>2</th>\n",
              "      <th>3</th>\n",
              "      <th>4</th>\n",
              "    </tr>\n",
              "  </thead>\n",
              "  <tbody>\n",
              "    <tr>\n",
              "      <th>2021-09-06</th>\n",
              "      <td>-0.640617</td>\n",
              "      <td>-2.034526</td>\n",
              "      <td>-0.096965</td>\n",
              "      <td>0.602943</td>\n",
              "    </tr>\n",
              "    <tr>\n",
              "      <th>2021-09-05</th>\n",
              "      <td>0.781631</td>\n",
              "      <td>0.808867</td>\n",
              "      <td>0.643473</td>\n",
              "      <td>1.748946</td>\n",
              "    </tr>\n",
              "    <tr>\n",
              "      <th>2021-09-04</th>\n",
              "      <td>-1.582265</td>\n",
              "      <td>1.858140</td>\n",
              "      <td>2.164934</td>\n",
              "      <td>1.519460</td>\n",
              "    </tr>\n",
              "    <tr>\n",
              "      <th>2021-09-03</th>\n",
              "      <td>-0.040703</td>\n",
              "      <td>-0.399904</td>\n",
              "      <td>-0.074965</td>\n",
              "      <td>0.353783</td>\n",
              "    </tr>\n",
              "    <tr>\n",
              "      <th>2021-09-02</th>\n",
              "      <td>-0.353621</td>\n",
              "      <td>-0.098514</td>\n",
              "      <td>-0.746377</td>\n",
              "      <td>-0.814201</td>\n",
              "    </tr>\n",
              "    <tr>\n",
              "      <th>2021-09-01</th>\n",
              "      <td>0.312985</td>\n",
              "      <td>0.938770</td>\n",
              "      <td>1.594607</td>\n",
              "      <td>-1.624135</td>\n",
              "    </tr>\n",
              "  </tbody>\n",
              "</table>\n",
              "</div>"
            ],
            "text/plain": [
              "                   1         2         3         4\n",
              "2021-09-06 -0.640617 -2.034526 -0.096965  0.602943\n",
              "2021-09-05  0.781631  0.808867  0.643473  1.748946\n",
              "2021-09-04 -1.582265  1.858140  2.164934  1.519460\n",
              "2021-09-03 -0.040703 -0.399904 -0.074965  0.353783\n",
              "2021-09-02 -0.353621 -0.098514 -0.746377 -0.814201\n",
              "2021-09-01  0.312985  0.938770  1.594607 -1.624135"
            ]
          },
          "metadata": {},
          "execution_count": 36
        }
      ]
    },
    {
      "cell_type": "markdown",
      "metadata": {
        "id": "ss7s_8iDbAcL"
      },
      "source": [
        ""
      ]
    }
  ]
}