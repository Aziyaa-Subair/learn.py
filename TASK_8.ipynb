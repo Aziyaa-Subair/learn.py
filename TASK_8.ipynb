{
  "nbformat": 4,
  "nbformat_minor": 0,
  "metadata": {
    "colab": {
      "name": "Copy of TASK 8.ipynb",
      "provenance": [],
      "include_colab_link": true
    },
    "kernelspec": {
      "name": "python3",
      "display_name": "Python 3"
    },
    "language_info": {
      "name": "python"
    }
  },
  "cells": [
    {
      "cell_type": "markdown",
      "metadata": {
        "id": "view-in-github",
        "colab_type": "text"
      },
      "source": [
        "<a href=\"https://colab.research.google.com/github/Aziyaa-Subair/learn.py/blob/main/TASK_8.ipynb\" target=\"_parent\"><img src=\"https://colab.research.google.com/assets/colab-badge.svg\" alt=\"Open In Colab\"/></a>"
      ]
    },
    {
      "cell_type": "markdown",
      "metadata": {
        "id": "slsGswYbJSo7"
      },
      "source": [
        "1. Generate a 3 x 3 matrix using random module."
      ]
    },
    {
      "cell_type": "code",
      "metadata": {
        "id": "GGRQSYyNJW9t",
        "colab": {
          "base_uri": "https://localhost:8080/"
        },
        "outputId": "af17eb82-5cc2-4880-9bf1-509d082c425c"
      },
      "source": [
        "#please provide your answer below this line.\n",
        "import numpy as np\n",
        "r=np.array([[1,2,3],[4,5,6],[7,8,9]])\n",
        "print(r)\n"
      ],
      "execution_count": 63,
      "outputs": [
        {
          "output_type": "stream",
          "text": [
            "[[1 2 3]\n",
            " [4 5 6]\n",
            " [7 8 9]]\n"
          ],
          "name": "stdout"
        }
      ]
    },
    {
      "cell_type": "markdown",
      "metadata": {
        "id": "4OB9KFX6JfYA"
      },
      "source": [
        "2. Generate two 4 x 4 matrix using numpy and \n",
        "\n",
        " a) Reshape it to 2 x 8matrix and vertically stack it.\n",
        "\n",
        " b) Reshape it to 2 x 8 matrix and horizontally stack it."
      ]
    },
    {
      "cell_type": "code",
      "metadata": {
        "id": "VoIqYeNWJ4H_",
        "colab": {
          "base_uri": "https://localhost:8080/"
        },
        "outputId": "e85001ed-0a9d-4fe4-fbb5-bb0187a65438"
      },
      "source": [
        "#please provide your answer below this line.\n",
        "import numpy as np\n",
        "a=np.array([[1,1,1,1],[2,2,2,2],[3,3,3,3],[4,4,4,4]])\n",
        "print(a)\n",
        "b=np.array([[1,2,3,4],[5,6,7,8],[9,10,11,12],[13,14,15,16]])\n",
        "print(b)\n",
        "c=a.reshape(2,8)\n",
        "d=b.reshape(2,8)\n",
        "print(c)\n",
        "print(d)\n",
        "e=np.vstack((a,b))\n",
        "print(e)\n",
        "f=np.hstack((a,b))\n",
        "print(f)\n",
        "\n",
        "\n"
      ],
      "execution_count": 60,
      "outputs": [
        {
          "output_type": "stream",
          "text": [
            "[[1 1 1 1]\n",
            " [2 2 2 2]\n",
            " [3 3 3 3]\n",
            " [4 4 4 4]]\n",
            "[[ 1  2  3  4]\n",
            " [ 5  6  7  8]\n",
            " [ 9 10 11 12]\n",
            " [13 14 15 16]]\n",
            "[[1 1 1 1 2 2 2 2]\n",
            " [3 3 3 3 4 4 4 4]]\n",
            "[[ 1  2  3  4  5  6  7  8]\n",
            " [ 9 10 11 12 13 14 15 16]]\n",
            "[[ 1  1  1  1]\n",
            " [ 2  2  2  2]\n",
            " [ 3  3  3  3]\n",
            " [ 4  4  4  4]\n",
            " [ 1  2  3  4]\n",
            " [ 5  6  7  8]\n",
            " [ 9 10 11 12]\n",
            " [13 14 15 16]]\n",
            "[[ 1  1  1  1  1  2  3  4]\n",
            " [ 2  2  2  2  5  6  7  8]\n",
            " [ 3  3  3  3  9 10 11 12]\n",
            " [ 4  4  4  4 13 14 15 16]]\n"
          ],
          "name": "stdout"
        }
      ]
    }
  ]
}