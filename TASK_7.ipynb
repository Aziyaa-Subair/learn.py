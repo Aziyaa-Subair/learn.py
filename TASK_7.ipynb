{
  "nbformat": 4,
  "nbformat_minor": 0,
  "metadata": {
    "colab": {
      "name": "Copy of TASK  7.ipynb",
      "provenance": [],
      "include_colab_link": true
    },
    "kernelspec": {
      "name": "python3",
      "display_name": "Python 3"
    },
    "language_info": {
      "name": "python"
    }
  },
  "cells": [
    {
      "cell_type": "markdown",
      "metadata": {
        "id": "view-in-github",
        "colab_type": "text"
      },
      "source": [
        "<a href=\"https://colab.research.google.com/github/Aziyaa-Subair/learn.py/blob/main/TASK_7.ipynb\" target=\"_parent\"><img src=\"https://colab.research.google.com/assets/colab-badge.svg\" alt=\"Open In Colab\"/></a>"
      ]
    },
    {
      "cell_type": "markdown",
      "metadata": {
        "id": "b0V3vwzcydKy"
      },
      "source": [
        "1. Write a program to check whether a  string is palindrome or not using functions. \n",
        "\n",
        "   ( A function is to be created to check whether the string is palindrome and it should give the output true or false to the main program)"
      ]
    },
    {
      "cell_type": "code",
      "metadata": {
        "id": "M2Mi7EOdyxiu"
      },
      "source": [
        "#please enter the code below this line.\n",
        "def mytext(s):\n",
        "    return s==s[::-1]\n",
        "s=input(\"Enter the string:\")\n",
        "ans=mytext(s)\n",
        "if ans:\n",
        "    print(\"Palindrome\")\n",
        "else:\n",
        "    print(\"Not palindrome\") \n",
        " \n",
        "\n"
      ],
      "execution_count": null,
      "outputs": []
    },
    {
      "cell_type": "markdown",
      "metadata": {
        "id": "vSiShTyOzEz-"
      },
      "source": [
        "2.  Write a menu driven program to find largest element in L, smallest element, avg of all values, sum of all values in L. All these operation should be performed in different functions and the result should be returned.\n",
        "\n",
        "\n",
        "      L=[23,24,11,90,1,41,9,99,28,56,72]"
      ]
    },
    {
      "cell_type": "code",
      "metadata": {
        "id": "fRtMIw_CzsmO"
      },
      "source": [
        "#please enter the code below this line.\n",
        "def large():\n",
        "    list1=[23,24,11,90,1,41,9,99,28,56,72]\n",
        "    print(\"Largest element is:\",max(list1))\n",
        "\n",
        "\n",
        "def small():\n",
        "    list1=[23,24,11,90,1,41,9,99,28,56,72]\n",
        "    print(\"Smallest element is:\",min(list1))\n",
        "\n",
        "def tot():\n",
        " total = 0\n",
        " list1 = [11, 5, 17, 18, 23] \n",
        " for ele in range(0, len(list1)):\n",
        "     total = total + list1[ele]\n",
        " print(\"Sum of elements=\",total)         \n",
        "\n",
        "\n",
        "def avg():\n",
        "  list1=[23,24,11,90,1,41,9,99,28,56,72]\n",
        "  average=0\n",
        "  total=0\n",
        "  for ele in range(0,len(list1)):\n",
        "      total=total+list1[ele]\n",
        "      average=(total/11) \n",
        "  print(\"Average of elements=\",average) \n",
        "\n",
        "  \n",
        "  \n",
        "while(True):  \n",
        "     print(\"\\nMENU\")  \n",
        "     print(\"1. Largest element\")  \n",
        "     print(\"2. Smallest element\")  \n",
        "     print(\"3. Sum of elements\")  \n",
        "     print(\"4. Average of elements\")  \n",
        "     print(\"5. Exit\")  \n",
        "     choice = int(input(\"\\nEnter the Choice: \"))  \n",
        "   \n",
        "  \n",
        "     if choice == 1:  \n",
        "        large() \n",
        "\n",
        "     elif choice == 2:  \n",
        "         \n",
        "          small()\n",
        "    \n",
        "     elif choice == 3:  \n",
        "         \n",
        "          tot()    \n",
        "  \n",
        "     elif choice == 4:  \n",
        "            \n",
        "          avg()   \n",
        "  \n",
        "     elif choice == 5:  \n",
        "          break  \n",
        "      \n",
        "else:  \n",
        "    print( \"Please Provide a valid Input!\")  \n",
        "\n",
        "\n",
        "\n"
      ],
      "execution_count": null,
      "outputs": []
    }
  ]
}