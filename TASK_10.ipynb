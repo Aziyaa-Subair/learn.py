{
  "nbformat": 4,
  "nbformat_minor": 0,
  "metadata": {
    "colab": {
      "name": "Copy of TASK 10.ipynb",
      "provenance": [],
      "include_colab_link": true
    },
    "kernelspec": {
      "name": "python3",
      "display_name": "Python 3"
    },
    "language_info": {
      "name": "python"
    }
  },
  "cells": [
    {
      "cell_type": "markdown",
      "metadata": {
        "id": "view-in-github",
        "colab_type": "text"
      },
      "source": [
        "<a href=\"https://colab.research.google.com/github/Aziyaa-Subair/learn.py/blob/main/TASK_10.ipynb\" target=\"_parent\"><img src=\"https://colab.research.google.com/assets/colab-badge.svg\" alt=\"Open In Colab\"/></a>"
      ]
    },
    {
      "cell_type": "markdown",
      "metadata": {
        "id": "VHKxwUewxOi2"
      },
      "source": [
        "1. Generate two  3 x 3 matrix and find it's dot product and take the transpose of the answer."
      ]
    },
    {
      "cell_type": "code",
      "metadata": {
        "id": "RdyKd1CAxZtR",
        "colab": {
          "base_uri": "https://localhost:8080/"
        },
        "outputId": "e96287fa-f6ee-40a2-9638-3097a4d1a0ee"
      },
      "source": [
        "#please provide your answer below this line.\n",
        "import numpy as np\n",
        "x=np.array([[1,11,13],[12,16,5],[7,9,6]])\n",
        "print(x)\n",
        "y=np.array([[2,7,9],[5,9,8],[11,3,9]])\n",
        "print(y)\n",
        "z=np.dot(x,y)\n",
        "print(\"Dot product\")\n",
        "print(z)\n",
        "a=z.transpose(1,0)\n",
        "print(\"Transpose\")\n",
        "print(a)\n"
      ],
      "execution_count": 19,
      "outputs": [
        {
          "output_type": "stream",
          "text": [
            "[[ 1 11 13]\n",
            " [12 16  5]\n",
            " [ 7  9  6]]\n",
            "Dot product\n",
            "[[ 2  7  9]\n",
            " [ 5  9  8]\n",
            " [11  3  9]]\n",
            "[[200 145 214]\n",
            " [159 243 281]\n",
            " [125 148 189]]\n",
            "Transpose\n",
            "[[200 159 125]\n",
            " [145 243 148]\n",
            " [214 281 189]]\n"
          ],
          "name": "stdout"
        }
      ]
    },
    {
      "cell_type": "markdown",
      "metadata": {
        "id": "9c9ZwiBxxf4t"
      },
      "source": [
        "2. Create a 3x3 matrix with elements [55,25,15], [30,44,2], [11,45,77] . Now find the determinant of the given matrix."
      ]
    },
    {
      "cell_type": "code",
      "metadata": {
        "id": "Anmr3C9KyNyy",
        "colab": {
          "base_uri": "https://localhost:8080/"
        },
        "outputId": "4f2fe3b1-915e-4844-d01f-bfa236cf1137"
      },
      "source": [
        "#please provide your answer below this line.\n",
        "import numpy as np\n",
        "x=np.array([[55,25,15],[30,44,2], [11,45,77]])\n",
        "print(x)\n",
        "d=np.linalg.det(x)\n",
        "print(\"Determinant=\")\n",
        "print(int(d))"
      ],
      "execution_count": 23,
      "outputs": [
        {
          "output_type": "stream",
          "text": [
            "[[55 25 15]\n",
            " [30 44  2]\n",
            " [11 45 77]]\n",
            "Determinant=\n",
            "137180\n"
          ],
          "name": "stdout"
        }
      ]
    }
  ]
}