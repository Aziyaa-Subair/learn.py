{
  "nbformat": 4,
  "nbformat_minor": 0,
  "metadata": {
    "colab": {
      "name": "Copy of TASK 9.ipynb",
      "provenance": [],
      "include_colab_link": true
    },
    "kernelspec": {
      "name": "python3",
      "display_name": "Python 3"
    },
    "language_info": {
      "name": "python"
    }
  },
  "cells": [
    {
      "cell_type": "markdown",
      "metadata": {
        "id": "view-in-github",
        "colab_type": "text"
      },
      "source": [
        "<a href=\"https://colab.research.google.com/github/Aziyaa-Subair/learn.py/blob/main/TASK_9.ipynb\" target=\"_parent\"><img src=\"https://colab.research.google.com/assets/colab-badge.svg\" alt=\"Open In Colab\"/></a>"
      ]
    },
    {
      "cell_type": "markdown",
      "metadata": {
        "id": "CBOQ3rFElEb0"
      },
      "source": [
        "1. Create an 4x4 array containing the values ranging from 0 - 15 (use arange function). Then ,\n",
        "  \n",
        "  a) split it equally along horizontal.\n",
        "\n",
        "  b) split it as 4 parts vertically.\n",
        "\n"
      ]
    },
    {
      "cell_type": "code",
      "metadata": {
        "id": "pKy4fjS_m3XD",
        "colab": {
          "base_uri": "https://localhost:8080/"
        },
        "outputId": "02cf2c20-9931-4528-b4a3-3dbf5cf9586a"
      },
      "source": [
        "#please provide your answer below this line\n",
        "import numpy as np\n",
        "ar=np.arange(0,16,1)\n",
        "newarr=ar.reshape(4,4)\n",
        "print(newarr)\n",
        "hor=np.hsplit(newarr,2)\n",
        "print(hor)\n",
        "ver=np.vsplit(newarr,4)\n",
        "print(ver)\n",
        "\n",
        "\n"
      ],
      "execution_count": 1,
      "outputs": [
        {
          "output_type": "stream",
          "text": [
            "[[ 0  1  2  3]\n",
            " [ 4  5  6  7]\n",
            " [ 8  9 10 11]\n",
            " [12 13 14 15]]\n",
            "[array([[ 0,  1],\n",
            "       [ 4,  5],\n",
            "       [ 8,  9],\n",
            "       [12, 13]]), array([[ 2,  3],\n",
            "       [ 6,  7],\n",
            "       [10, 11],\n",
            "       [14, 15]])]\n",
            "[array([[0, 1, 2, 3]]), array([[4, 5, 6, 7]]), array([[ 8,  9, 10, 11]]), array([[12, 13, 14, 15]])]\n"
          ],
          "name": "stdout"
        }
      ]
    },
    {
      "cell_type": "markdown",
      "metadata": {
        "id": "ORtqWRAeoMvn"
      },
      "source": [
        "2. Create a 3x3 matrix using random module and then,\n",
        "\n",
        "  a) Find the ceil of the matrix.\n",
        "  \n",
        "  b) Find the floor of the matrix."
      ]
    },
    {
      "cell_type": "code",
      "metadata": {
        "id": "kt_CO_v9qpU-",
        "colab": {
          "base_uri": "https://localhost:8080/"
        },
        "outputId": "ecbbe138-dab2-4dd6-e3db-942324215260"
      },
      "source": [
        "#please provide your answer below this line\n",
        "from numpy import random \n",
        "x=random.rand(3,3)\n",
        "print(x)\n",
        "r_array=np.ceil(x)\n",
        "print(r_array)\n",
        "arr=np.floor(x)\n",
        "print(arr)\n",
        "\n"
      ],
      "execution_count": 21,
      "outputs": [
        {
          "output_type": "stream",
          "text": [
            "[[0.43689327 0.20073456 0.62710427]\n",
            " [0.85246924 0.44807181 0.73868273]\n",
            " [0.30843127 0.52311702 0.84838173]]\n",
            "[[1. 1. 1.]\n",
            " [1. 1. 1.]\n",
            " [1. 1. 1.]]\n",
            "[[0. 0. 0.]\n",
            " [0. 0. 0.]\n",
            " [0. 0. 0.]]\n"
          ],
          "name": "stdout"
        }
      ]
    },
    {
      "cell_type": "markdown",
      "metadata": {
        "id": "oln9t19WqzBb"
      },
      "source": [
        "3. Create a random 1x4 array and print the random array and its shape.\n",
        "    \n",
        "      (use the shape function for finding the shape & use the same random we created here for both the below operations.)\n",
        "\n",
        "  a) Squeeze the random array and print the squeezed array and its shape.\n",
        "  b) Expand the random array by one axis and print the expanded array and its shape."
      ]
    },
    {
      "cell_type": "code",
      "metadata": {
        "id": "cbGGwRo3vpVX",
        "colab": {
          "base_uri": "https://localhost:8080/"
        },
        "outputId": "1e82b975-851b-4e6e-ae16-ef87074b2326"
      },
      "source": [
        "#please provide your answer below this line.\n",
        "import numpy as np\n",
        "arr=np.random.rand(1,4)\n",
        "print(arr)\n",
        "print(arr.shape)\n",
        "y=np.squeeze(arr)\n",
        "print(y)\n",
        "print(y.shape)\n",
        "z=np.expand_dims(arr,axis=2)\n",
        "print(z)\n",
        "print(z.shape)"
      ],
      "execution_count": 30,
      "outputs": [
        {
          "output_type": "stream",
          "text": [
            "[[0.09292661 0.34819403 0.52364384 0.16162121]]\n",
            "(1, 4)\n",
            "[0.09292661 0.34819403 0.52364384 0.16162121]\n",
            "(4,)\n",
            "[[[0.09292661]\n",
            "  [0.34819403]\n",
            "  [0.52364384]\n",
            "  [0.16162121]]]\n",
            "(1, 4, 1)\n"
          ],
          "name": "stdout"
        }
      ]
    }
  ]
}