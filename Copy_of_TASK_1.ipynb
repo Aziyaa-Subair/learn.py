{
  "nbformat": 4,
  "nbformat_minor": 0,
  "metadata": {
    "colab": {
      "name": "Copy of TASK 1",
      "provenance": [],
      "include_colab_link": true
    },
    "kernelspec": {
      "name": "python3",
      "display_name": "Python 3"
    },
    "language_info": {
      "name": "python"
    }
  },
  "cells": [
    {
      "cell_type": "markdown",
      "metadata": {
        "id": "view-in-github",
        "colab_type": "text"
      },
      "source": [
        "<a href=\"https://colab.research.google.com/github/Aziyaa-Subair/learn.py/blob/main/Copy_of_TASK_1.ipynb\" target=\"_parent\"><img src=\"https://colab.research.google.com/assets/colab-badge.svg\" alt=\"Open In Colab\"/></a>"
      ]
    },
    {
      "cell_type": "markdown",
      "metadata": {
        "id": "q-yWxfWESiQo"
      },
      "source": [
        "1.Write a program that uses input to prompt a user for their name and then welcomes them."
      ]
    },
    {
      "cell_type": "code",
      "metadata": {
        "id": "9ikpRxqMSxu0",
        "colab": {
          "base_uri": "https://localhost:8080/"
        },
        "outputId": "97cf302b-278f-4554-8b05-ec6001df4a79"
      },
      "source": [
        "name=input(\"Enter the name:\")\n",
        "print(\"Welcome\",name)\n"
      ],
      "execution_count": 2,
      "outputs": [
        {
          "output_type": "stream",
          "text": [
            "Enter the name:aziyaa\n",
            "Welcome aziyaa\n"
          ],
          "name": "stdout"
        }
      ]
    },
    {
      "cell_type": "markdown",
      "metadata": {
        "id": "Ay5OdxguS-2Z"
      },
      "source": [
        "2.Write a program which prompts the user for a Celsius temperature, convert the temperature to Fahrenheit, and print out the converted temperature."
      ]
    },
    {
      "cell_type": "code",
      "metadata": {
        "id": "MMv2yWNtTgEu",
        "colab": {
          "base_uri": "https://localhost:8080/"
        },
        "outputId": "0d70a536-5bac-49f6-fc83-d20bb7ab9780"
      },
      "source": [
        "cel=float(input(\"Enter the temperature in celsius=\"))\n",
        "faren=((cel*1.8)+32)\n",
        "print(\"Temperture in celsius=\",cel)\n",
        "print(\"Temperature in  farenheit\",faren)\n",
        "\n"
      ],
      "execution_count": 5,
      "outputs": [
        {
          "output_type": "stream",
          "text": [
            "Enter the temperature in celsius=23\n",
            "Temperture in celsius= 23.0\n",
            "Temperature in  farenheit 73.4\n"
          ],
          "name": "stdout"
        }
      ]
    },
    {
      "cell_type": "markdown",
      "metadata": {
        "id": "v6O1a198TpNd"
      },
      "source": [
        "3.Write a Python program to convert degree to radian."
      ]
    },
    {
      "cell_type": "code",
      "metadata": {
        "id": "27Jj4_D0UQBA",
        "colab": {
          "base_uri": "https://localhost:8080/"
        },
        "outputId": "bbf588bb-1622-4f08-b009-23ad6e0e4bf9"
      },
      "source": [
        "#please provide your answer here below this line\n",
        "degree=float(input(\"Enter the value in degree=\"))\n",
        "rad=(degree*0.0174)\n",
        "print(degree,\"degree=\",rad,\"radian\",degree,rad)"
      ],
      "execution_count": 9,
      "outputs": [
        {
          "output_type": "stream",
          "text": [
            "Enter the value in degree=100\n",
            "100.0 degree= 1.7399999999999998 radian 100.0 1.7399999999999998\n"
          ],
          "name": "stdout"
        }
      ]
    }
  ]
}