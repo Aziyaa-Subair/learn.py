{
  "nbformat": 4,
  "nbformat_minor": 0,
  "metadata": {
    "colab": {
      "name": "Copy of TASK 15.ipynb",
      "provenance": [],
      "include_colab_link": true
    },
    "kernelspec": {
      "name": "python3",
      "display_name": "Python 3"
    },
    "language_info": {
      "name": "python"
    }
  },
  "cells": [
    {
      "cell_type": "markdown",
      "metadata": {
        "id": "view-in-github",
        "colab_type": "text"
      },
      "source": [
        "<a href=\"https://colab.research.google.com/github/Aziyaa-Subair/learn.py/blob/main/TASK_15.ipynb\" target=\"_parent\"><img src=\"https://colab.research.google.com/assets/colab-badge.svg\" alt=\"Open In Colab\"/></a>"
      ]
    },
    {
      "cell_type": "markdown",
      "metadata": {
        "id": "mmfmNpvywy0n"
      },
      "source": [
        "1. For the given ndarray b below, evaluate whether elements in array, b are equal to 'red'.Assign the result to b_bool and print the resultant boolean array.\n",
        "b = np.array([\"blue\", \"blue\", \"red\", \"blue\"])"
      ]
    },
    {
      "cell_type": "code",
      "metadata": {
        "id": "KyVrfhasw7SW",
        "colab": {
          "base_uri": "https://localhost:8080/"
        },
        "outputId": "9bb62de8-c33f-442e-f6f7-f0f2567582b3"
      },
      "source": [
        "#please type your answer below this line.\n",
        "import numpy as np\n",
        "b=np.array([\"blue\",\"blue\",\"red\",\"blue\"])\n",
        "print(b)\n",
        "b_bool=b==\"red\"\n",
        "print(b_bool)\n"
      ],
      "execution_count": 11,
      "outputs": [
        {
          "output_type": "stream",
          "text": [
            "['blue' 'blue' 'red' 'blue']\n",
            "[False False  True False]\n"
          ],
          "name": "stdout"
        }
      ]
    },
    {
      "cell_type": "markdown",
      "metadata": {
        "id": "1IEqtJSDzx3p"
      },
      "source": [
        "2. Create two arrays on containing elements from 0-5 and another containing elements from 6-10. Then append this array."
      ]
    },
    {
      "cell_type": "code",
      "metadata": {
        "id": "7PXETiqF0Jeo",
        "colab": {
          "base_uri": "https://localhost:8080/"
        },
        "outputId": "f92887e0-004b-467a-ac2e-70362d6c860a"
      },
      "source": [
        "#please type your answer below this line.\n",
        "import numpy as np\n",
        "ar1=np.array([0,1,2,3,4,5])\n",
        "ar2=np.array([6,7,8,9,10])\n",
        "ar1=np.append(ar1,ar2)\n",
        "print(ar1)"
      ],
      "execution_count": 1,
      "outputs": [
        {
          "output_type": "stream",
          "text": [
            "[ 0  1  2  3  4  5  6  7  8  9 10]\n"
          ],
          "name": "stdout"
        }
      ]
    },
    {
      "cell_type": "markdown",
      "metadata": {
        "id": "6JqR9EeB0P6K"
      },
      "source": [
        "3. Create a 2x4 array containing values from 0-7 and another 2x4 containing values from 8-15. Now append this with,\n",
        "\n",
        "  a) axis as 0\n",
        "\n",
        "  b) axis as 1"
      ]
    },
    {
      "cell_type": "code",
      "metadata": {
        "id": "AVhGyXzr1Pd8",
        "colab": {
          "base_uri": "https://localhost:8080/"
        },
        "outputId": "f6e2c586-36dd-452b-89d6-894cb0261648"
      },
      "source": [
        "#please type your answer below this line.\n",
        "import numpy as np\n",
        "a=np.arange(0,8,1)\n",
        "a.resize(2,4)\n",
        "print(\"array1=\")\n",
        "print(a)\n",
        "b=np.arange(8,16,1)\n",
        "b.resize(2,4)\n",
        "print(\"array2=\")\n",
        "print(b)\n",
        "a=np.append(a,b,axis=0)\n",
        "print(\"Axis as 0\")\n",
        "print(a)\n",
        "a=np.arange(0,8,1)\n",
        "a.resize(2,4)\n",
        "b=np.arange(8,16,1)\n",
        "b.resize(2,4)\n",
        "a=np.append(a,b,axis=1)\n",
        "print(\"Axis as 1\")\n",
        "print(a)\n"
      ],
      "execution_count": 1,
      "outputs": [
        {
          "output_type": "stream",
          "text": [
            "array1=\n",
            "[[0 1 2 3]\n",
            " [4 5 6 7]]\n",
            "array2=\n",
            "[[ 8  9 10 11]\n",
            " [12 13 14 15]]\n",
            "Axis as 0\n",
            "[[ 0  1  2  3]\n",
            " [ 4  5  6  7]\n",
            " [ 8  9 10 11]\n",
            " [12 13 14 15]]\n",
            "Axis as 1\n",
            "[[ 0  1  2  3  8  9 10 11]\n",
            " [ 4  5  6  7 12 13 14 15]]\n"
          ],
          "name": "stdout"
        }
      ]
    }
  ]
}