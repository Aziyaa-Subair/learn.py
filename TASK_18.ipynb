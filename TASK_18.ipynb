{
  "nbformat": 4,
  "nbformat_minor": 0,
  "metadata": {
    "colab": {
      "name": "Copy of TASK 18.ipynb",
      "provenance": [],
      "include_colab_link": true
    },
    "kernelspec": {
      "name": "python3",
      "display_name": "Python 3"
    },
    "language_info": {
      "name": "python"
    }
  },
  "cells": [
    {
      "cell_type": "markdown",
      "metadata": {
        "id": "view-in-github",
        "colab_type": "text"
      },
      "source": [
        "<a href=\"https://colab.research.google.com/github/Aziyaa-Subair/learn.py/blob/main/TASK_18.ipynb\" target=\"_parent\"><img src=\"https://colab.research.google.com/assets/colab-badge.svg\" alt=\"Open In Colab\"/></a>"
      ]
    },
    {
      "cell_type": "markdown",
      "metadata": {
        "id": "_JgXT8pEAjU4"
      },
      "source": [
        "1. \n",
        "Create a DataFrame by passing a random numpy array,with a datetie index and labelled columns.and,\n",
        "    - slice its first three rows and display.\n",
        "    - slice its odd indexed rows.\n",
        "    - display the dates from 1st postion to 4 th position."
      ]
    },
    {
      "cell_type": "code",
      "metadata": {
        "id": "5zFM5VOJBKBV",
        "colab": {
          "base_uri": "https://localhost:8080/"
        },
        "outputId": "ddd5ac75-1400-47d5-847f-5dac568b56c2"
      },
      "source": [
        "#please provide your answer below this line.\n",
        "import pandas as pd\n",
        "import numpy as np\n",
        "dates=pd.date_range('20130911',periods=5)\n",
        "df = pd.DataFrame(np.random.randn(5,5), index=dates, columns=list('12345'))\n",
        "print(df)\n",
        "print(\"\\nFirst three rows\")\n",
        "print(df.iloc[0:3])\n",
        "print(\"\\nOdd indexed rows\")\n",
        "print(df.iloc[::2])\n",
        "print(\"\\nDates from 1st to 4th position\")\n",
        "df.index[0:4]\n"
      ],
      "execution_count": 35,
      "outputs": [
        {
          "output_type": "stream",
          "name": "stdout",
          "text": [
            "                   1         2         3         4         5\n",
            "2013-09-11 -0.013529  0.103786  0.846086 -0.919035  1.701553\n",
            "2013-09-12  0.055694  0.222911 -1.045823 -0.269606 -0.265380\n",
            "2013-09-13  1.890042  0.396242 -1.207810  0.940477 -0.099118\n",
            "2013-09-14  0.064691 -0.325816 -0.022206 -0.212311  0.716902\n",
            "2013-09-15  1.057631  0.422172 -1.832435  1.291712 -1.753554\n",
            "\n",
            "First three rows\n",
            "                   1         2         3         4         5\n",
            "2013-09-11 -0.013529  0.103786  0.846086 -0.919035  1.701553\n",
            "2013-09-12  0.055694  0.222911 -1.045823 -0.269606 -0.265380\n",
            "2013-09-13  1.890042  0.396242 -1.207810  0.940477 -0.099118\n",
            "\n",
            "Odd indexed rows\n",
            "                   1         2         3         4         5\n",
            "2013-09-11 -0.013529  0.103786  0.846086 -0.919035  1.701553\n",
            "2013-09-13  1.890042  0.396242 -1.207810  0.940477 -0.099118\n",
            "2013-09-15  1.057631  0.422172 -1.832435  1.291712 -1.753554\n",
            "\n",
            "Dates from 1st to 4th position\n"
          ]
        },
        {
          "output_type": "execute_result",
          "data": {
            "text/plain": [
              "DatetimeIndex(['2013-09-11', '2013-09-12', '2013-09-13', '2013-09-14'], dtype='datetime64[ns]', freq='D')"
            ]
          },
          "metadata": {},
          "execution_count": 35
        }
      ]
    },
    {
      "cell_type": "markdown",
      "metadata": {
        "id": "QuoucvjxBPmX"
      },
      "source": [
        "2. Create a DataFrame by passing a random numpy array,with a datetie index and labelled columns.and\n",
        "  - Dislplay the index from the 1 to 3 date and the columns A and B of respective data.\n",
        "  - Display the datas at the 3rd index.\n",
        "  - Display datas from 2nd to 5th.\n",
        "  - Display the datas from the index 1,2,4 and the column 0 and 2."
      ]
    },
    {
      "cell_type": "code",
      "metadata": {
        "id": "qV_wzsp1DUKI",
        "colab": {
          "base_uri": "https://localhost:8080/"
        },
        "outputId": "d6e6934a-f127-4124-be54-89d16712c6d6"
      },
      "source": [
        "#please provide your answer below thins line.\n",
        "import pandas as pd\n",
        "import numpy as np\n",
        "dates=pd.date_range('20001106',periods=6)\n",
        "df = pd.DataFrame(np.random.randn(6,6), index=dates, columns=list('ABCDEF'))\n",
        "print(df)\n",
        "print(\"\\nIndex from 1 to 3 date and the columns A and B\")\n",
        "#print(df.loc[[2000-11-06':'2000-11-08'],['A':'B']])\n",
        "print(df.iloc[[0,1,2], df.columns.get_indexer(['A', 'B'])])\n",
        "print(\"\\nData at the 3rd index\")\n",
        "print(df.iloc[[2]])\n",
        "print(\"\\nData from 2nd to 5th\")\n",
        "print(df.iloc[1:5])\n",
        "print(\"\\nDatas from index 1,2,4 and the column 0 and 2\")\n",
        "print(df.iloc[[0,1,3],[0,2]])\n"
      ],
      "execution_count": 3,
      "outputs": [
        {
          "output_type": "stream",
          "name": "stdout",
          "text": [
            "                   A         B         C         D         E         F\n",
            "2000-11-06 -0.711201 -0.480354 -0.490060  1.001343 -0.388038  0.555166\n",
            "2000-11-07 -0.716074 -0.397746  1.104609  0.476236  0.038726 -0.260573\n",
            "2000-11-08 -0.093731  1.057203  0.179504  0.703401  0.767145 -0.660486\n",
            "2000-11-09 -0.100842 -0.016227 -0.057231  0.038817 -0.001090 -0.508018\n",
            "2000-11-10 -0.110130 -0.769860  0.276359  0.077900  0.023826  0.538079\n",
            "2000-11-11  0.421271  0.610191 -0.708690  1.224341 -0.912442  0.482995\n",
            "\n",
            "Index from 1 to 3 date and the columns A and B\n",
            "                   A         B\n",
            "2000-11-06 -0.711201 -0.480354\n",
            "2000-11-07 -0.716074 -0.397746\n",
            "2000-11-08 -0.093731  1.057203\n",
            "\n",
            "Data at the 3rd index\n",
            "                   A         B         C         D         E         F\n",
            "2000-11-08 -0.093731  1.057203  0.179504  0.703401  0.767145 -0.660486\n",
            "\n",
            "Data from 2nd to 5th\n",
            "                   A         B         C         D         E         F\n",
            "2000-11-07 -0.716074 -0.397746  1.104609  0.476236  0.038726 -0.260573\n",
            "2000-11-08 -0.093731  1.057203  0.179504  0.703401  0.767145 -0.660486\n",
            "2000-11-09 -0.100842 -0.016227 -0.057231  0.038817 -0.001090 -0.508018\n",
            "2000-11-10 -0.110130 -0.769860  0.276359  0.077900  0.023826  0.538079\n",
            "\n",
            "Datas from index 1,2,4 and the column 0 and 2\n",
            "                   A         C\n",
            "2000-11-06 -0.711201 -0.490060\n",
            "2000-11-07 -0.716074  1.104609\n",
            "2000-11-09 -0.100842 -0.057231\n"
          ]
        }
      ]
    }
  ]
}