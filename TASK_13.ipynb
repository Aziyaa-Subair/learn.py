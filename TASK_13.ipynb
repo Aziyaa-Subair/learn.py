{
  "nbformat": 4,
  "nbformat_minor": 0,
  "metadata": {
    "colab": {
      "name": "Copy of TASK 13.ipynb",
      "provenance": [],
      "include_colab_link": true
    },
    "kernelspec": {
      "name": "python3",
      "display_name": "Python 3"
    },
    "language_info": {
      "name": "python"
    }
  },
  "cells": [
    {
      "cell_type": "markdown",
      "metadata": {
        "id": "view-in-github",
        "colab_type": "text"
      },
      "source": [
        "<a href=\"https://colab.research.google.com/github/Aziyaa-Subair/learn.py/blob/main/TASK_13.ipynb\" target=\"_parent\"><img src=\"https://colab.research.google.com/assets/colab-badge.svg\" alt=\"Open In Colab\"/></a>"
      ]
    },
    {
      "cell_type": "markdown",
      "metadata": {
        "id": "RUSoRkrOqNwf"
      },
      "source": [
        "1. Create a 3x3 array values ranging from 0-8.Find the sum of the elements in this array."
      ]
    },
    {
      "cell_type": "code",
      "metadata": {
        "id": "t01ATYQpqq8u",
        "colab": {
          "base_uri": "https://localhost:8080/"
        },
        "outputId": "b1e5da3d-a313-4ca2-f1e0-f8ff69e71f8f"
      },
      "source": [
        "#please enter your code below this line.\n",
        "import numpy as np\n",
        "ar=np.arange(0,16,1)\n",
        "newarr=ar.reshape(4,4)\n",
        "print(newarr)\n",
        "print(\"Sum of elements=\")\n",
        "newarr.sum()"
      ],
      "execution_count": 5,
      "outputs": [
        {
          "output_type": "stream",
          "text": [
            "[[ 0  1  2  3]\n",
            " [ 4  5  6  7]\n",
            " [ 8  9 10 11]\n",
            " [12 13 14 15]]\n",
            "Sum of elements=\n"
          ],
          "name": "stdout"
        },
        {
          "output_type": "execute_result",
          "data": {
            "text/plain": [
              "120"
            ]
          },
          "metadata": {
            "tags": []
          },
          "execution_count": 5
        }
      ]
    },
    {
      "cell_type": "markdown",
      "metadata": {
        "id": "k3Y7nQF7r3IW"
      },
      "source": [
        "2. Create a 3x3 array values ranging from 0-8.Find the row sum and column sum of this array."
      ]
    },
    {
      "cell_type": "code",
      "metadata": {
        "id": "BzvIlWfvsICv",
        "colab": {
          "base_uri": "https://localhost:8080/"
        },
        "outputId": "f3e236b2-1f1c-4313-caee-f934a34821a5"
      },
      "source": [
        "#please enter your code below this line.\n",
        "import numpy as np\n",
        "ar=np.arange(0,9,1)\n",
        "newarr=ar.reshape(3,3)\n",
        "print(newarr)\n",
        "sum_row=newarr.sum(axis=1)\n",
        "print(\"Row sum\")\n",
        "print(sum_row)\n",
        "sum_col=newarr.sum(axis=0)\n",
        "print(\"Column sum\")\n",
        "print(sum_col)"
      ],
      "execution_count": 11,
      "outputs": [
        {
          "output_type": "stream",
          "text": [
            "[[0 1 2]\n",
            " [3 4 5]\n",
            " [6 7 8]]\n",
            "Row sum\n",
            "[ 3 12 21]\n",
            "Column sum\n",
            "[ 9 12 15]\n"
          ],
          "name": "stdout"
        }
      ]
    },
    {
      "cell_type": "markdown",
      "metadata": {
        "id": "KOPMsbnrsgue"
      },
      "source": [
        "3. Create a 4x4 array values ranging from 0-15. Now,\n",
        "\n",
        "    a) Find the mininmum value in the array.\n",
        "    \n",
        "    b) Find the maximum value in the array.\n",
        "\n",
        "    c) Find the mean of the values in the array."
      ]
    },
    {
      "cell_type": "code",
      "metadata": {
        "id": "1UzITxp3WDaW",
        "colab": {
          "base_uri": "https://localhost:8080/"
        },
        "outputId": "84a30b39-a49a-4098-e10d-a3ca21d2d31b"
      },
      "source": [
        "#please enter your code belowthis line.\n",
        "import numpy as np\n",
        "ar=np.arange(0,16,1)\n",
        "newarr=ar.reshape(4,4)\n",
        "print(newarr)\n",
        "min_val=newarr.min()\n",
        "print(\" Minimum value=\",min_val)\n",
        "max_val=newarr.max()\n",
        "print(\"Maximum value=\",max_val)\n",
        "m_val=newarr.mean()\n",
        "print(\"Mean value=\",m_val)\n"
      ],
      "execution_count": 20,
      "outputs": [
        {
          "output_type": "stream",
          "text": [
            "[[ 0  1  2  3]\n",
            " [ 4  5  6  7]\n",
            " [ 8  9 10 11]\n",
            " [12 13 14 15]]\n",
            " Minimum value= 0\n",
            "Maximum value= 15\n",
            "Mean value= 7.5\n"
          ],
          "name": "stdout"
        }
      ]
    },
    {
      "cell_type": "markdown",
      "metadata": {
        "id": "Pah9qGButoz2"
      },
      "source": [
        "4. Create an 10x10 array values ranging from 0-99.And ,\n",
        "\n",
        "    a) Print the 7th row.\n",
        "    \n",
        "    b) Print the rows from 4-8.\n",
        "\n",
        "    c) Print the value at the index 5,5.\n",
        "\n",
        "    d) Print the 5th colomn.\n",
        "\n",
        "    e) Print the columns from 2-5."
      ]
    },
    {
      "cell_type": "code",
      "metadata": {
        "id": "JFXPq0GkvhKi",
        "colab": {
          "base_uri": "https://localhost:8080/"
        },
        "outputId": "00d3dc3d-987b-45b8-df44-e98c3b745ead"
      },
      "source": [
        "#please enter your code below this line.\n",
        "import numpy as np\n",
        "ar=np.arange(0,100,1)\n",
        "a2 = ar.reshape(10,10)\n",
        "print(a2)\n",
        "print(\"7th row\")\n",
        "print(a2[6])\n",
        "print(\"4th to 8th row\")\n",
        "print(a2[3:8])\n",
        "value = a2[4,4]\n",
        "print(\"value at the index 5,5=\",value)\n",
        "print(\"5th column\")\n",
        "print(a2[:,5])\n",
        "print(\"2nd to 5th column\")\n",
        "c=a2[:, 1:5]\n",
        "print(c)\n",
        "\n",
        "\n"
      ],
      "execution_count": 54,
      "outputs": [
        {
          "output_type": "stream",
          "text": [
            "[[ 0  1  2  3  4  5  6  7  8  9]\n",
            " [10 11 12 13 14 15 16 17 18 19]\n",
            " [20 21 22 23 24 25 26 27 28 29]\n",
            " [30 31 32 33 34 35 36 37 38 39]\n",
            " [40 41 42 43 44 45 46 47 48 49]\n",
            " [50 51 52 53 54 55 56 57 58 59]\n",
            " [60 61 62 63 64 65 66 67 68 69]\n",
            " [70 71 72 73 74 75 76 77 78 79]\n",
            " [80 81 82 83 84 85 86 87 88 89]\n",
            " [90 91 92 93 94 95 96 97 98 99]]\n",
            "7th row\n",
            "[60 61 62 63 64 65 66 67 68 69]\n",
            "4th to 8th row\n",
            "[[30 31 32 33 34 35 36 37 38 39]\n",
            " [40 41 42 43 44 45 46 47 48 49]\n",
            " [50 51 52 53 54 55 56 57 58 59]\n",
            " [60 61 62 63 64 65 66 67 68 69]\n",
            " [70 71 72 73 74 75 76 77 78 79]]\n",
            "value at the index 5,5= 44\n",
            "5th column\n",
            "[ 5 15 25 35 45 55 65 75 85 95]\n",
            "2nd to 5th column\n",
            "[[ 1  2  3  4]\n",
            " [11 12 13 14]\n",
            " [21 22 23 24]\n",
            " [31 32 33 34]\n",
            " [41 42 43 44]\n",
            " [51 52 53 54]\n",
            " [61 62 63 64]\n",
            " [71 72 73 74]\n",
            " [81 82 83 84]\n",
            " [91 92 93 94]]\n"
          ],
          "name": "stdout"
        }
      ]
    }
  ]
}