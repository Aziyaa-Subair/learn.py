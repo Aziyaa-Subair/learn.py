{
  "nbformat": 4,
  "nbformat_minor": 0,
  "metadata": {
    "colab": {
      "name": "Copy of TASK 3.ipynb",
      "provenance": [],
      "include_colab_link": true
    },
    "kernelspec": {
      "name": "python3",
      "display_name": "Python 3"
    },
    "language_info": {
      "name": "python"
    }
  },
  "cells": [
    {
      "cell_type": "markdown",
      "metadata": {
        "id": "view-in-github",
        "colab_type": "text"
      },
      "source": [
        "<a href=\"https://colab.research.google.com/github/Aziyaa-Subair/learn.py/blob/main/TASK_3.ipynb\" target=\"_parent\"><img src=\"https://colab.research.google.com/assets/colab-badge.svg\" alt=\"Open In Colab\"/></a>"
      ]
    },
    {
      "cell_type": "markdown",
      "metadata": {
        "id": "z20IIB0eUQMN"
      },
      "source": [
        "1 - Write a program which takes a number as input from the user and check whether the number is odd or even.If odd print the number is odd if not print it is even."
      ]
    },
    {
      "cell_type": "code",
      "metadata": {
        "id": "dVgGJ-wTVRit"
      },
      "source": [
        "#please enter your answer below this line\n",
        "num=int(input(\"Enter a number:\"))\n",
        "if(num%2==0):\n",
        "  print(\"The number is even\")\n",
        "else:\n",
        "  print(\"The number is odd\")\n"
      ],
      "execution_count": null,
      "outputs": []
    },
    {
      "cell_type": "markdown",
      "metadata": {
        "id": "7778XD8PVblj"
      },
      "source": [
        "2 -Write a program to find the largest among three numbers and print the largest number."
      ]
    },
    {
      "cell_type": "code",
      "metadata": {
        "id": "m0tUOkOFWR-d"
      },
      "source": [
        "#please enter your answer below this line\n",
        "n1=int(input(\"Enter the first number:\"))\n",
        "n2=int(input(\"Enter the second number:\"))\n",
        "n3=int(input(\"Enter the third number:\" ))\n",
        "if (n1>n2) and (n1>n3):\n",
        "    large=n1\n",
        "elif (n2>n1) and (n2>n3):\n",
        "    large=n2\n",
        "else:\n",
        "    large=n3\n",
        "print(\"The largest number is\",large)\n"
      ],
      "execution_count": null,
      "outputs": []
    },
    {
      "cell_type": "markdown",
      "metadata": {
        "id": "Jg2Ns4OQWaJy"
      },
      "source": [
        "3 -Write a function to prompt for a score between 0.0 and 1.0.\n",
        "\n",
        "    If the score is out of range, print an error.\n",
        "    If the score is between 0.0 and 1.0, print a grade using the following table:\n",
        "    Score Grade\n",
        "             Score\tGrade\n",
        "            >= 0.9\tA\n",
        "            >= 0.8\tB\n",
        "            >= 0.7\tC\n",
        "            >= 0.6\tD\n",
        "             < 0.6\tF\n",
        "If the user enters a value out of range, print a suitable error message and exit. For the test, enter a score of 0.85."
      ]
    },
    {
      "cell_type": "code",
      "metadata": {
        "id": "6DLbGe6XXZPx"
      },
      "source": [
        "#please enter your answer below this line\n",
        "val=float(input(\"Enter the score between 0.0 and 1.0= \"))\n",
        "if (val <= 1.0) and (val > 0.9):\n",
        "  print(\"Grade=A\")\n",
        "elif (val <=0.9 ) and (val>=0.8):\n",
        "  print(\"Grade=B\")\n",
        "elif (val<=0.8) and (val>=0.7):\n",
        "  print(\"Grade=C\")\n",
        "elif (val<=0.7) and (val>=0.6):\n",
        "  print(\"Grade=D\")\n",
        "elif (val<0.6):\n",
        "  print(\"Grade=F\")\n",
        "else:\n",
        "  print(\"ERROR! WRONG VALUE\")"
      ],
      "execution_count": null,
      "outputs": []
    },
    {
      "cell_type": "markdown",
      "metadata": {
        "id": "-o0scDq7WkVT"
      },
      "source": [
        ""
      ]
    }
  ]
}